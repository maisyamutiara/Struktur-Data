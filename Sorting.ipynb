{
 "cells": [
  {
   "cell_type": "markdown",
   "metadata": {},
   "source": [
    "a. Hasil running time lima metode sorting dalam satu grafik dengan sumbu-x adalah jumlah data (n) dan sumbu-y adalah waktu (detik)"
   ]
  },
  {
   "cell_type": "code",
   "execution_count": 1,
   "metadata": {
    "id": "YJC3m7UlGd8D"
   },
   "outputs": [],
   "source": [
    "import numpy as np\n",
    "import random\n",
    "import matplotlib.pyplot as plt\n",
    "import time\n",
    "import pandas as pd\n",
    "from tabulate import tabulate"
   ]
  },
  {
   "cell_type": "code",
   "execution_count": 2,
   "metadata": {
    "id": "Nsxr1fYNygM_"
   },
   "outputs": [],
   "source": [
    "def sort_average_time(sorter, list_size, num_tests):\n",
    "    times = list()\n",
    "    L = list(range(0, list_size))\n",
    "\n",
    "    for i in range(num_tests):\n",
    "        random.shuffle(L)\n",
    "        t0 = time.time()\n",
    "        sorter(L)\n",
    "        t1 = time.time()\n",
    "        t = t1 - t0\n",
    "        times.append(t)\n",
    "  \n",
    "    return sum(times)/num_tests\n",
    "\n",
    "def sort_runtime_graph(sorter_list, n=30, ntests=16):\n",
    "    size = [100*i for i in range(1,n)]\n",
    "    time_sorter_list = []\n",
    "\n",
    "    for i in range(len(sorter_list)):\n",
    "        time = list()\n",
    "        for N in size:\n",
    "            t = sort_average_time(sorter_list[i],N,ntests)\n",
    "            t = round(t,4)\n",
    "            time.append(t)\n",
    "        time_sorter_list.append(time)\n",
    "\n",
    "        plt.plot(size, time)\n",
    "  \n",
    "    for_table = {'Bubble Sort':time_sorter_list[0],\n",
    "               'Selection Sort':time_sorter_list[1],\n",
    "               'Insertion Sort':time_sorter_list[2],\n",
    "               'Merge Sort':time_sorter_list[3],\n",
    "               'Quick Sort':time_sorter_list[4],}\n",
    "    time_table = pd.DataFrame(for_table, index=size)\n",
    "    print(time_table)\n",
    "\n",
    "    plt.xlabel('List Size')\n",
    "    plt.ylabel('Run Time (seconds)')\n",
    "    plt.grid()\n",
    "    plt.legend(['Bubble Sort', 'Selection Sort', 'Insertion Sort', 'Merge Sort', 'Quick Sort'])\n",
    "    plt.show()"
   ]
  },
  {
   "cell_type": "code",
   "execution_count": 3,
   "metadata": {
    "id": "ahYO_w_ISdcN"
   },
   "outputs": [],
   "source": [
    "def bubble_sort(L):\n",
    "    N = len(L)\n",
    "    while True:\n",
    "        sorted = True #memberi tanda jika list telah terurut, maka program selesai\n",
    "        \n",
    "        #perhatikan setiap elemen pada list\n",
    "        #lalu bandingkan dengan setiap nilai yang berdekatan\n",
    "        for i in range(0,N-1): \n",
    "            if L[i+1] < L[i]: #jika elemen di i lebih besar dari elemen di sebelahnya yaitu i+1\n",
    "                sorted = False #maka list belum terurut\n",
    "                L[i], L[i+1] = L[i+1], L[i] #tukarkan kedua elemen tersebut\n",
    "        if sorted: #jika elemen sudah terurut\n",
    "            return L #masukkan list ke definisi fungsi\n",
    "            break"
   ]
  },
  {
   "cell_type": "code",
   "execution_count": 4,
   "metadata": {
    "id": "7k8ypU6tbW-u"
   },
   "outputs": [],
   "source": [
    "def selection_sort(L):\n",
    "    n = len(L)\n",
    "    for i in range(n):\n",
    "        min_index = i #Inisialisasi elemen terkecil\n",
    "        for j in range(i+1, n): #untuk mengurutkan elemen dari yang terkecil\n",
    "            if L[j] < L[min_index]: #periksa setiap elemen lebih kecil dari elemen terkecil di awal\n",
    "                min_index = j #ganti elemen terkecil di inisialisasi dengan elemen yang lebih kecil\n",
    "        L[i], L[min_index] = L[min_index], L[i] #tukar kedua elemen\n",
    "    return L"
   ]
  },
  {
   "cell_type": "code",
   "execution_count": 5,
   "metadata": {
    "id": "3_heGNrJ6JDS"
   },
   "outputs": [],
   "source": [
    "def insertion_sort(L):\n",
    "    for i in range(1, len(L)):\n",
    "        key = L[i] #elemen yang ingin diposisikan di tempat yang benar\n",
    "        j = i-1 #inisialisasi variabel untuk menempatkan key pada posisi yang benar\n",
    "        while j >=0 and key < L[j] : #loop selama elemen key lebih kecil dari nilai yang berdekatan\n",
    "            L[j+1] = L[j] #geser elemen satu posisi ke kiri\n",
    "            j -= 1 #reposisi j untuk menunjuk ke elemen berikutnya\n",
    "        L[j+1] = key #saat looping geser elemen selesai, posisikan key pada tempat yang benar\n",
    "  \n",
    "    return L"
   ]
  },
  {
   "cell_type": "code",
   "execution_count": 9,
   "metadata": {
    "id": "bkDo2bnA_ya6"
   },
   "outputs": [],
   "source": [
    "def merge_sort(L):\n",
    "    if len(L)>1:\n",
    "        mid = len(L)//2\n",
    "        A = L[:mid]\n",
    "        B = L[mid:]\n",
    "\n",
    "        merge_sort(A)\n",
    "        merge_sort(B)\n",
    "        i = j = k = 0       \n",
    "        while i < len(A) and j < len(B):\n",
    "            if A[i] < B[j]:\n",
    "                L[k] = A[i]\n",
    "                i += 1\n",
    "            else:\n",
    "                L[k] = B[j]\n",
    "                j += 1\n",
    "                k += 1\n",
    "\n",
    "        while i < len(A):\n",
    "            L[k] = A[i]\n",
    "            i += 1\n",
    "            k += 1\n",
    "\n",
    "        while j < len(B):\n",
    "            L[k] = B[j]\n",
    "            j += 1\n",
    "            k += 1\n",
    "    return L"
   ]
  },
  {
   "cell_type": "code",
   "execution_count": 10,
   "metadata": {
    "id": "YjWCJol4BS9a"
   },
   "outputs": [],
   "source": [
    "def quick_sort(L):\n",
    "    if len(L) > 1:\n",
    "        pivot = max(L[0], L[-1])\n",
    "        A, B = partition(L, pivot)\n",
    "        quick_sort(A)\n",
    "        quick_sort(B)\n",
    "        A.extend(B)\n",
    "        for i in range(len(L)):\n",
    "            L[i] = A[i]\n",
    "    return L\n",
    "\n",
    "def partition(L, pivot):\n",
    "    A = []\n",
    "    B = []\n",
    "    for element in L:\n",
    "        if element < pivot:\n",
    "            A.append(element)\n",
    "        else:\n",
    "            B.append(element)\n",
    "    return A, B"
   ]
  },
  {
   "cell_type": "code",
   "execution_count": 11,
   "metadata": {
    "colab": {
     "base_uri": "https://localhost:8080/",
     "height": 823
    },
    "id": "0a4U4yvJVYIz",
    "outputId": "2d7a8e3c-6789-49ff-e1b7-8e1d4a1c698e"
   },
   "outputs": [
    {
     "name": "stdout",
     "output_type": "stream",
     "text": [
      "      Bubble Sort  Selection Sort  Insertion Sort  Merge Sort  Quick Sort\n",
      "100        0.0026          0.0012          0.0007      0.0090      0.0073\n",
      "200        0.0112          0.0037          0.0032      0.0015      0.0201\n",
      "300        0.0260          0.0067          0.0075      0.0018      0.0765\n",
      "400        0.0482          0.0118          0.0130      0.0043      0.0621\n",
      "500        0.0802          0.0196          0.0219      0.0107      0.0149\n",
      "600        0.1404          0.0274          0.0327      0.0030      0.0275\n",
      "700        0.1614          0.0374          0.0458      0.0245      0.0474\n",
      "800        0.2028          0.0452          0.0641      0.0056      0.0253\n",
      "900        0.2539          0.0603          0.0714      0.0124      0.0584\n",
      "1000       0.3113          0.0739          0.0930      0.0170      0.0385\n",
      "1100       0.3658          0.0970          0.1302      0.0403      0.0187\n",
      "1200       0.4289          0.1102          0.1875      0.0085      0.0225\n",
      "1300       0.5523          0.1378          0.2511      0.0984      0.0206\n",
      "1400       0.6022          0.1525          0.2233      0.0099      0.0075\n",
      "1500       0.7369          0.1748          0.2503      0.0447      0.0265\n",
      "1600       0.8279          0.1865          0.3062      0.0261      0.0103\n",
      "1700       0.9485          0.2243          0.3390      0.0622      0.0110\n",
      "1800       1.0509          0.2539          0.3456      0.0437      0.0207\n",
      "1900       1.0911          0.2833          0.3826      0.0235      0.0622\n",
      "2000       1.2474          0.3034          0.4232      0.0134      0.0224\n",
      "2100       1.4553          0.3300          0.4646      0.0472      0.0198\n",
      "2200       1.4421          0.3932          0.4300      0.0196      0.0216\n",
      "2300       1.6505          0.3626          0.4914      0.0242      0.0131\n",
      "2400       1.7567          0.3909          0.5200      0.0148      0.0371\n",
      "2500       1.8867          0.4443          0.6394      0.0286      0.0588\n",
      "2600       2.0438          0.5055          0.6940      0.0160      0.0359\n",
      "2700       2.3215          0.5333          0.7150      0.0763      0.0157\n",
      "2800       2.3339          0.5460          0.7284      0.0329      0.0325\n",
      "2900       2.6039          0.6461          0.8171      0.0750      0.0409\n"
     ]
    },
    {
     "data": {
      "image/png": "[encoded data removed]",
      "text/plain": [
       "<Figure size 432x288 with 1 Axes>"
      ]
     },
     "metadata": {
      "needs_background": "light"
     },
     "output_type": "display_data"
    }
   ],
   "source": [
    "sort_runtime_graph([bubble_sort, selection_sort, insertion_sort, merge_sort, quick_sort])"
   ]
  }
 ],
 "metadata": {
  "colab": {
   "name": "struktur data sorting.ipynb",
   "provenance": []
  },
  "kernelspec": {
   "display_name": "Python 3",
   "language": "python",
   "name": "python3"
  },
  "language_info": {
   "codemirror_mode": {
    "name": "ipython",
    "version": 3
   },
   "file_extension": ".py",
   "mimetype": "text/x-python",
   "name": "python",
   "nbconvert_exporter": "python",
   "pygments_lexer": "ipython3",
   "version": "3.8.3"
  }
 },
 "nbformat": 4,
 "nbformat_minor": 1
}
