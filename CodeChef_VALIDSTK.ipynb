{
 "cells": [
  {
   "cell_type": "code",
   "execution_count": 15,
   "metadata": {},
   "outputs": [
    {
     "name": "stdout",
     "output_type": "stream",
     "text": [
      "berapa kali main? 3\n",
      "panjang stack? 5\n",
      "1 0 1 0 0\n",
      "invalid\n",
      "panjang stack? 4\n",
      "1 1 1 0\n",
      "valid\n",
      "panjang stack? 2\n",
      "1 0\n",
      "valid\n"
     ]
    }
   ],
   "source": [
    "def valid_stack(h):\n",
    "    a = []\n",
    "    i=0\n",
    "    try:\n",
    "        while i<(len(h)):\n",
    "            if h[i] == 1:\n",
    "                a.append(1)                     \n",
    "            elif h[i] == 0:\n",
    "                a.pop()\n",
    "            i=i+1\n",
    "        ans = 'valid'\n",
    "    except:\n",
    "        ans = 'invalid' \n",
    "    return ans\n",
    "\n",
    "\n",
    "testcase = int(input(\"berapa kali main? \"))\n",
    "i=1\n",
    "while i<=(testcase):\n",
    "    n = int(input(\"panjang stack? \"))\n",
    "    masukin = list(map(int, input().split()))\n",
    "    if len(masukin)== n:\n",
    "        print(valid_stack(masukin))\n",
    "    i=i+1"
   ]
  }
 ],
 "metadata": {
  "kernelspec": {
   "display_name": "Python 3",
   "language": "python",
   "name": "python3"
  },
  "language_info": {
   "codemirror_mode": {
    "name": "ipython",
    "version": 3
   },
   "file_extension": ".py",
   "mimetype": "text/x-python",
   "name": "python",
   "nbconvert_exporter": "python",
   "pygments_lexer": "ipython3",
   "version": "3.8.3"
  }
 },
 "nbformat": 4,
 "nbformat_minor": 5
}
