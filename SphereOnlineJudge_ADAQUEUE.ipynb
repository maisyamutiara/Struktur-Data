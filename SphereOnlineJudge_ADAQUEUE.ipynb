{
 "cells": [
  {
   "cell_type": "code",
   "execution_count": 2,
   "metadata": {},
   "outputs": [
    {
     "name": "stdout",
     "output_type": "stream",
     "text": [
      "15\n",
      "toFront 93\n",
      "front\n",
      "93\n",
      "back\n",
      "No job for Ada?\n",
      "reverse\n",
      "back\n",
      "No job for Ada?\n",
      "reverse\n",
      "toFront 80\n",
      "push_back 53\n",
      "push_back 50\n",
      "front\n",
      "80\n",
      "front\n",
      "53\n",
      "reverse\n",
      "push_back 66\n",
      "reverse\n",
      "front\n",
      "66\n"
     ]
    }
   ],
   "source": [
    "queue = []\n",
    "\n",
    "#Memasukkan elemen N di depan\n",
    "def toFront(data):\n",
    "    queue.insert(0, data)\n",
    "    \n",
    "#Memasukkan elemen N di belakang\n",
    "def push_back(data):\n",
    "    queue.append(data)\n",
    "        \n",
    "#Menghapus elemen N di depan\n",
    "def front():\n",
    "    if not queue:\n",
    "        print(\"No job for Ada?\")\n",
    "    else:\n",
    "        element = queue.pop(0)\n",
    "        print(element)\n",
    "\n",
    "#Menghapus elemen N di belakang\n",
    "def back():\n",
    "    if not queue:\n",
    "        print(\"No job for Ada?\")\n",
    "    else:\n",
    "        element = queue.pop()\n",
    "        print(element)\n",
    "\n",
    "#Membalikkan elemen di queue\n",
    "def reverse():\n",
    "    queue.reverse()\n",
    "    \n",
    "Q = int(input())\n",
    "i = 1\n",
    "while i <= (Q):\n",
    "    x = list(input().split())\n",
    "    if x[0] == \"toFront\":\n",
    "        N = int(x[-1])\n",
    "        toFront(N)\n",
    "    elif x[0] == \"push_back\":\n",
    "        N = int(x[-1])\n",
    "        push_back(N)\n",
    "    elif x[0] == \"front\":\n",
    "        front()\n",
    "    elif x[0] == \"back\":\n",
    "        back()\n",
    "    elif x[0] == \"reverse\":\n",
    "        reverse()\n",
    "    i = i+1"
   ]
  }
 ],
 "metadata": {
  "kernelspec": {
   "display_name": "Python 3",
   "language": "python",
   "name": "python3"
  },
  "language_info": {
   "codemirror_mode": {
    "name": "ipython",
    "version": 3
   },
   "file_extension": ".py",
   "mimetype": "text/x-python",
   "name": "python",
   "nbconvert_exporter": "python",
   "pygments_lexer": "ipython3",
   "version": "3.8.3"
  }
 },
 "nbformat": 4,
 "nbformat_minor": 4
}
