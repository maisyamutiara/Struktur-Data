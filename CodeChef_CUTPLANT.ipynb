{
 "cells": [
  {
   "cell_type": "code",
   "execution_count": 19,
   "metadata": {},
   "outputs": [
    {
     "name": "stdout",
     "output_type": "stream",
     "text": [
      "Berapa kali program dijalankan? 3\n",
      "Berapa banyak plant? 7\n",
      "Tinggi plant sebelumnya : 1 3 4 5 1 2 3\n",
      "Tinggi plant yang diinginkan : 1 2 1 2 1 1 1\n",
      "Banyak operasi :  3\n",
      "========================================\n",
      "Berapa banyak plant? 2\n",
      "Tinggi plant sebelumnya : 1 2\n",
      "Tinggi plant yang diinginkan : 2 1\n",
      "-1 : Operasi gagal\n",
      "========================================\n",
      "Berapa banyak plant? 3\n",
      "Tinggi plant sebelumnya : 2 3 9\n",
      "Tinggi plant yang diinginkan : 2 3 9\n",
      "Banyak operasi :  0\n",
      "========================================\n"
     ]
    }
   ],
   "source": [
    "T = int(input(\"Berapa kali program dijalankan? \"))\n",
    "for _ in range(T):\n",
    "    n = int(input(\"Berapa banyak plant? \"))\n",
    "    A = list(map(int, input(\"Tinggi plant sebelumnya : \").split()))\n",
    "    B = list(map(int, input(\"Tinggi plant yang diinginkan : \").split()))\n",
    "\n",
    "    for i in range(n):\n",
    "        if B[i] > A[i]:\n",
    "            temp = -1\n",
    "            break\n",
    "    else:\n",
    "        temp = 0\n",
    "\n",
    "    if temp == -1:\n",
    "        print(\"-1 : Operasi gagal\")\n",
    "        print(\"========================================\")\n",
    "        continue\n",
    "\n",
    "    queue = []\n",
    "\n",
    "    i = 0\n",
    "    while i < n:\n",
    "        if A[i]-B[i] > 0:\n",
    "            break\n",
    "        i += 1\n",
    "\n",
    "    while i < n:\n",
    "        # loop dan hapus elemen front (ujung kiri) yang nilainya lebih dari A[i]\n",
    "        while len(queue) != 0:\n",
    "            if A[i] < queue[0]:\n",
    "                queue.pop(0)\n",
    "            else:\n",
    "                break\n",
    "\n",
    "        # loop dan hapus elemen rear (ujung kanan) yang nilainya kurang dari B[i]\n",
    "        while len(queue) != 0:\n",
    "            if B[i] > queue[-1]:\n",
    "                queue.pop()\n",
    "            else:\n",
    "                break\n",
    "\n",
    "        if len(queue) == 0 or queue[-1] != B[i]:\n",
    "            if A[i] != B[i]:\n",
    "                queue.append(B[i])\n",
    "                temp += 1\n",
    "        i += 1\n",
    "    print(\"Banyak operasi : \",temp)\n",
    "    print(\"========================================\")"
   ]
  },
  {
   "cell_type": "code",
   "execution_count": null,
   "metadata": {},
   "outputs": [],
   "source": []
  }
 ],
 "metadata": {
  "kernelspec": {
   "display_name": "Python 3",
   "language": "python",
   "name": "python3"
  },
  "language_info": {
   "codemirror_mode": {
    "name": "ipython",
    "version": 3
   },
   "file_extension": ".py",
   "mimetype": "text/x-python",
   "name": "python",
   "nbconvert_exporter": "python",
   "pygments_lexer": "ipython3",
   "version": "3.8.3"
  }
 },
 "nbformat": 4,
 "nbformat_minor": 4
}
