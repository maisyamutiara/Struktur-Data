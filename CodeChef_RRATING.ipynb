{
  "cells": [
    {
      "cell_type": "code",
      "execution_count": null,
      "metadata": {
        "id": "lOk0dc_FLreQ",
        "outputId": "1caece8d-8231-4cce-f577-8ee6ff8a2b89"
      },
      "outputs": [
        {
          "name": "stdout",
          "output_type": "stream",
          "text": [
            "Banyak operasi yang diinginkan? 10\n",
            "------------------------------------------\n",
            "+ Pilih operasi yang diinginkan          +\n",
            "+ 1 x : Operasi insert rating x          +\n",
            "+ 2   : Report rating minimum di website +\n",
            "------------------------------------------\n",
            "1 1\n",
            "1 7\n",
            "2\n",
            "Rating = No reviews yet\n",
            "1 9\n",
            "1 21\n",
            "1 8\n",
            "1 5\n",
            "2\n",
            "------------------------------------------\n",
            "Rating terurut =  [1, 5, 7, 8, 9, 21]\n",
            "2 rating tertinggi =  [9, 21]\n",
            "Rating =  9\n",
            "------------------------------------------\n",
            "1 9\n",
            "2\n",
            "------------------------------------------\n",
            "Rating terurut =  [1, 5, 7, 8, 9, 21]\n",
            "2 rating tertinggi =  [9, 21]\n",
            "Rating =  9\n",
            "------------------------------------------\n"
          ]
        }
      ],
      "source": [
        "import math\n",
        "def heapify(arr, n, parent):\n",
        "    largest = parent\n",
        "    left = 2 * parent + 1\n",
        "    right = 2 * parent + 2\n",
        "    if left < n and arr[left] > arr[largest]:\n",
        "        largest = left\n",
        "    if right < n and arr[right] > arr[largest]:\n",
        "        largest = right\n",
        "    if largest != parent:\n",
        "        arr[largest],arr[parent] = arr[parent],arr[largest]\n",
        "        heapify(arr, n, largest)\n",
        "        \n",
        "def heapSort(arr):\n",
        "    n = len(arr)\n",
        "    for i in range(n // 2 - 1, -1, -1):\n",
        "        heapify(arr, n, i)\n",
        "    for i in range(n-1, 0, -1):\n",
        "        arr[i], arr[0] = arr[0], arr[i]\n",
        "        heapify(arr, i, 0)\n",
        "\n",
        "list1 = [] \n",
        "T = int(input(\"Banyak operasi yang diinginkan? \"))\n",
        "print(\"------------------------------------------\")\n",
        "print(\"+ Pilih operasi yang diinginkan          +\")\n",
        "print(\"+ 1 x : Operasi insert rating x          +\")\n",
        "print(\"+ 2   : Report rating minimum di website +\")\n",
        "print(\"------------------------------------------\")\n",
        "k = 1\n",
        "size = 0\n",
        "while k <= (T):\n",
        "    x = list(map(int, input().split()))\n",
        "    if x[0] == 1:\n",
        "        size += 1\n",
        "        N = int(x[-1])\n",
        "        list1.append(N)\n",
        "    elif x[0] == 2:\n",
        "        if size < 3:\n",
        "            print(\"Rating = No reviews yet\")\n",
        "        else:\n",
        "            y = math.floor(size//3)\n",
        "            heapSort(list1)\n",
        "            print(\"------------------------------------------\")\n",
        "            print(\"Rating terurut = \", list1)\n",
        "            new_list = list1[size-y:size]\n",
        "            print(y, \"rating tertinggi = \", list1[size-y:size])\n",
        "            element = new_list.pop(0)\n",
        "            print(\"Rating = \",element)\n",
        "            print(\"------------------------------------------\")\n",
        "            list1.remove(element)\n",
        "            size -= 1\n",
        "    k = k+1"
      ]
    }
  ],
  "metadata": {
    "kernelspec": {
      "display_name": "Python 3",
      "language": "python",
      "name": "python3"
    },
    "language_info": {
      "codemirror_mode": {
        "name": "ipython",
        "version": 3
      },
      "file_extension": ".py",
      "mimetype": "text/x-python",
      "name": "python",
      "nbconvert_exporter": "python",
      "pygments_lexer": "ipython3",
      "version": "3.8.3"
    },
    "colab": {
      "provenance": []
    }
  },
  "nbformat": 4,
  "nbformat_minor": 0
}