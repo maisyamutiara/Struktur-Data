{
  "nbformat": 4,
  "nbformat_minor": 0,
  "metadata": {
    "colab": {
      "name": "Untitled11.ipynb",
      "provenance": []
    },
    "kernelspec": {
      "name": "python3",
      "display_name": "Python 3"
    },
    "language_info": {
      "name": "python"
    }
  },
  "cells": [
    {
      "cell_type": "code",
      "metadata": {
        "colab": {
          "base_uri": "https://localhost:8080/"
        },
        "id": "qwht9sXeSX6G",
        "outputId": "1de4e7d4-02b0-4541-ba0f-cd4eaf543430"
      },
      "source": [
        "def urut(x):\n",
        "  x.sort()\n",
        "  return x\n",
        "\n",
        "def check(stacks,x):\n",
        "  terurut = urut(stacks)\n",
        "  status = 1\n",
        "  if x in terurut:\n",
        "    for i in range(len(terurut)):\n",
        "      if terurut[i] != x:\n",
        "        status +=1 \n",
        "      else:\n",
        "        break\n",
        "  else:\n",
        "    status = 'Data tidak ada'\n",
        "  print(status)\n",
        "\n",
        "Q = int(input('iterative:'))\n",
        "stack = []\n",
        "for i in range(Q):\n",
        "  x, n=map(int,input().split())\n",
        "  if x == 1:\n",
        "    stack.append(n)\n",
        "  elif x == 2:\n",
        "    check(stack,n)"
      ],
      "execution_count": 6,
      "outputs": [
        {
          "output_type": "stream",
          "name": "stdout",
          "text": [
            "iterative:5\n",
            "1 100\n",
            "1 74\n",
            "2 74\n",
            "1\n",
            "1 30\n",
            "1 90\n",
            "[74, 100, 30, 90]\n"
          ]
        }
      ]
    }
  ]
}